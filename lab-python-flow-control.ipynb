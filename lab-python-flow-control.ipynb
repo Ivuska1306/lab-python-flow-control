{
 "cells": [
  {
   "cell_type": "markdown",
   "id": "d3bfc191-8885-42ee-b0a0-bbab867c6f9f",
   "metadata": {
    "tags": []
   },
   "source": [
    "# Lab | Flow Control"
   ]
  },
  {
   "cell_type": "markdown",
   "id": "3851fcd1-cf98-4653-9c89-e003b7ec9400",
   "metadata": {},
   "source": [
    "## Exercise: Managing Customer Orders Optimized\n",
    "\n",
    "In the last lab, you were starting an online store that sells various products. To ensure smooth operations, you developed a program that manages customer orders and inventory.\n",
    "\n",
    "You did so without using flow control. Let's go a step further and improve this code.\n",
    "\n",
    "Follow the steps below to complete the exercise:\n",
    "\n",
    "1. Look at your code from the lab data structures, and improve repeated code with loops.\n",
    "\n",
    "2. Instead of asking the user to input the name of three products that a customer wants to order, do the following:\n",
    "    \n",
    "    a. Prompt the user to enter the name of a product that a customer wants to order.\n",
    "    \n",
    "    b. Add the product name to the \"customer_orders\" set.\n",
    "    \n",
    "    c. Ask the user if they want to add another product (yes/no).\n",
    "    \n",
    "    d. Continue the loop until the user does not want to add another product.\n",
    "\n",
    "3. Instead of updating the inventory by subtracting 1 from the quantity of each product, only do it for  the products that were ordered (those in \"customer_orders\")."
   ]
  },
  {
   "cell_type": "code",
   "execution_count": 9,
   "id": "75db0c97-b919-4cd0-98a8-c441c625e79c",
   "metadata": {},
   "outputs": [
    {
     "name": "stdin",
     "output_type": "stream",
     "text": [
      "Please enter the quantity for t-shirt: 5\n",
      "Please enter the quantity for mug: 4\n",
      "Please enter the quantity for hat: 7\n",
      "Please enter the quantity for book: 9\n",
      "Please enter the quantity for keychain: 6\n",
      "Enter the name of a product you want to order:  hat\n",
      "Do you want to add another product? (yes/no):  yes\n",
      "Enter the name of a product you want to order:  bike\n"
     ]
    },
    {
     "name": "stdout",
     "output_type": "stream",
     "text": [
      "This product does not exist. Please enter a product name from the list.\n"
     ]
    },
    {
     "name": "stdin",
     "output_type": "stream",
     "text": [
      "Enter the name of a product you want to order:  mug\n",
      "Do you want to add another product? (yes/no):  no\n"
     ]
    },
    {
     "name": "stdout",
     "output_type": "stream",
     "text": [
      "Customer Orders: {'mug', 'hat'}\n",
      "Order Statistics:\n",
      "Total Products Ordered: 2\n",
      "Percentage of Products Ordered:6.451612903225806%\n",
      "t-shirt:5\n",
      "mug:3\n",
      "hat:6\n",
      "book:9\n",
      "keychain:6\n"
     ]
    }
   ],
   "source": [
    "# Define a list called products that contains the following items: \"t-shirt\", \"mug\", \"hat\", \"book\", \"keychain\".\n",
    "products=[\"t-shirt\", \"mug\", \"hat\", \"book\", \"keychain\"]\n",
    "\n",
    "# Create an empty dictionary called inventory.\n",
    "inventory={}\n",
    "\n",
    "# Ask the user to input the quantity of each product available in the inventory. Use the product names from the products list as keys in the inventory dictionary and assign the respective quantities as values.\n",
    "for product in products:\n",
    "    quantity= input(f\"Please enter the quantity for {product}:\")\n",
    "    inventory[product]=int(quantity)\n",
    "    \n",
    "# Create an empty set called customer_orders\n",
    "customer_orders=set()\n",
    "\n",
    "# Prompt the user to enter the name of a product that a customer wants to order.\n",
    "while True:\n",
    "    # a. Prompting the user to enter a product name\n",
    "    product_name = input(\"Enter the name of a product you want to order: \")\n",
    "    \n",
    "    # Checking if the product exists in our products list\n",
    "    if product_name in products:\n",
    "        customer_orders.add(product_name)\n",
    "        add_another = input(\"Do you want to add another product? (yes/no): \").lower()\n",
    "        if add_another != \"yes\":\n",
    "            break  # Exit loop if the user does not want to add more products\n",
    "    else:\n",
    "        print(\"This product does not exist. Please enter a product name from the list.\")\n",
    "# Print the products in the customer_orders set.\n",
    "print(\"Customer Orders:\", customer_orders)\n",
    "# Calculate the following order statistics:\n",
    "# Total Products Ordered: The total number of products in the customer_orders set.\n",
    "total_products_ordered=len(customer_orders)\n",
    "#Percentage of Products Ordered: The percentage of products ordered compared to the total available products.\n",
    "percentage_of_products_ordered=(len(customer_orders)/sum(inventory.values())*100)\n",
    "#Store these statistics in a tuple called order_status.\n",
    "order_status = (total_products_ordered, percentage_of_products_ordered)\n",
    "#Print the order statistics using the following format:\n",
    "print(\"Order Statistics:\")\n",
    "print(f\"Total Products Ordered: {total_products_ordered}\")\n",
    "print(f\"Percentage of Products Ordered:{percentage_of_products_ordered}%\")\n",
    "# Instead of updating the inventory by subtracting 1 from the quantity of each product, only do it for the products that were ordered (those in \"customer_orders\")\n",
    "for product in customer_orders:\n",
    "    if product in inventory:\n",
    "        inventory[product] -= 1\n",
    "#Print the updated inventory, displaying the quantity of each product on separate lines.\n",
    "for product,quantity in inventory.items():\n",
    "    print(f\"{product}:{quantity}\")"
   ]
  },
  {
   "cell_type": "code",
   "execution_count": null,
   "id": "268b13dd-b8a3-491a-a961-cccacdf7d0d5",
   "metadata": {},
   "outputs": [],
   "source": []
  }
 ],
 "metadata": {
  "kernelspec": {
   "display_name": "Python 3 (ipykernel)",
   "language": "python",
   "name": "python3"
  },
  "language_info": {
   "codemirror_mode": {
    "name": "ipython",
    "version": 3
   },
   "file_extension": ".py",
   "mimetype": "text/x-python",
   "name": "python",
   "nbconvert_exporter": "python",
   "pygments_lexer": "ipython3",
   "version": "3.12.4"
  }
 },
 "nbformat": 4,
 "nbformat_minor": 5
}
